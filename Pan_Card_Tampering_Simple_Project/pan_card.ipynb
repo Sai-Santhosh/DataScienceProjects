
from skimage.metrics import structural_similarity
import imutils
import cv2
from PIL import Image
import requests

!mkdir pancard_tampering
!mkdir pancard_tampering/image

original = Image.open(requests.get('pan card dataset image', stream=True).raw)
tampered = Image.open(requests.get('your pan card', stream=True).raw) 

print("Original image format : ",original.format) 
print("Tampered image format : ",tampered.format)
print("Original image size : ",original.size) 
print("Tampered image size : ",tampered.size) 

original = original.resize((250, 160))
print(original.size)
original.save('pancard_tampering/image/original.png')
tampered = tampered.resize((250,160))
print(tampered.size)
tampered.save('pancard_tampering/image/tampered.png')

original = cv2.imread('pancard_tampering/image/original.png')
tampered = cv2.imread('pancard_tampering/image/tampered.png')

original_gray = cv2.cvtColor(original, cv2.COLOR_BGR2GRAY)
tampered_gray = cv2.cvtColor(tampered, cv2.COLOR_BGR2GRAY)

(score, diff) = structural_similarity(original_gray, tampered_gray, full=True)
diff = (diff * 255).astype("uint8")
print("SSIM: {}".format(score))

thresh = cv2.threshold(diff, 0, 255, cv2.THRESH_BINARY_INV | cv2.THRESH_OTSU)[1]
cnts = cv2.findContours(thresh.copy(), cv2.RETR_EXTERNAL, cv2.CHAIN_APPROX_SIMPLE)
cnts = imutils.grab_contours(cnts)

for c in cnts:
    (x, y, w, h) = cv2.boundingRect(c)
    cv2.rectangle(original, (x, y), (x + w, y + h), (0, 0, 255), 2)
    cv2.rectangle(tampered, (x, y), (x + w, y + h), (0, 0, 255), 2)
    
print('Original Format Image')
Image.fromarray(original)

print('Tampered Image')
Image.fromarray(tampered)

print('Different Image')
Image.fromarray(diff)

print('Threshold Image')
Image.fromarray(thresh)
